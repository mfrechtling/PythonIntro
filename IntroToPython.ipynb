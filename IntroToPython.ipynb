{
 "cells": [
  {
   "cell_type": "code",
   "execution_count": 4,
   "metadata": {},
   "outputs": [
    {
     "name": "stdout",
     "output_type": "stream",
     "text": [
      "hello, world\n"
     ]
    }
   ],
   "source": [
    "print(\"hello, world\")"
   ]
  },
  {
   "cell_type": "code",
   "execution_count": 6,
   "metadata": {},
   "outputs": [
    {
     "name": "stdout",
     "output_type": "stream",
     "text": [
      "time.struct_time(tm_year=2019, tm_mon=11, tm_mday=6, tm_hour=11, tm_min=44, tm_sec=19, tm_wday=2, tm_yday=310, tm_isdst=0)\n"
     ]
    }
   ],
   "source": [
    "from time import gmtime as the_time\n",
    "print(the_time())"
   ]
  },
  {
   "cell_type": "code",
   "execution_count": 7,
   "metadata": {},
   "outputs": [
    {
     "name": "stdout",
     "output_type": "stream",
     "text": [
      "time.struct_time(tm_year=2019, tm_mon=11, tm_mday=6, tm_hour=11, tm_min=44, tm_sec=20, tm_wday=2, tm_yday=310, tm_isdst=0)\n"
     ]
    }
   ],
   "source": [
    "print(the_time())"
   ]
  },
  {
   "cell_type": "code",
   "execution_count": 8,
   "metadata": {},
   "outputs": [
    {
     "name": "stdout",
     "output_type": "stream",
     "text": [
      "21\n"
     ]
    }
   ],
   "source": [
    "this_second = the_time().tm_sec\n",
    "print(this_second)"
   ]
  },
  {
   "cell_type": "code",
   "execution_count": 9,
   "metadata": {},
   "outputs": [
    {
     "name": "stdout",
     "output_type": "stream",
     "text": [
      "Divisible by 3\n"
     ]
    }
   ],
   "source": [
    "if this_second%3 == 0:\n",
    "    print('Divisible by 3')\n",
    "elif this_second%2 == 0:\n",
    "    print('Divisible by 2')\n",
    "else:\n",
    "    print('Default')"
   ]
  },
  {
   "cell_type": "code",
   "execution_count": 10,
   "metadata": {},
   "outputs": [
    {
     "name": "stdout",
     "output_type": "stream",
     "text": [
      "time.struct_time(tm_year=2019, tm_mon=11, tm_mday=6, tm_hour=11, tm_min=44, tm_sec=23, tm_wday=2, tm_yday=310, tm_isdst=0)\n"
     ]
    }
   ],
   "source": [
    "import random\n",
    "import time\n",
    "print(time.gmtime())"
   ]
  },
  {
   "cell_type": "code",
   "execution_count": 37,
   "metadata": {},
   "outputs": [
    {
     "name": "stdout",
     "output_type": "stream",
     "text": [
      "3\n",
      "This second = 50\n",
      "Divisible by 2\n",
      "Iteration complete\n",
      "5\n",
      "This second = 55\n",
      "Default\n",
      "Iteration complete\n",
      "3\n",
      "This second = 58\n",
      "Divisible by 2\n",
      "Iteration complete\n",
      "7\n",
      "This second = 5\n",
      "Default\n",
      "Iteration complete\n",
      "7\n",
      "This second = 12\n",
      "Divisible by 3\n"
     ]
    }
   ],
   "source": [
    "for i in range(5):\n",
    "    random_num = random.randint(2, 7)\n",
    "    print(random_num)\n",
    "    time.sleep(random_num)\n",
    "    \n",
    "    this_second = time.gmtime().tm_sec\n",
    "    print('This second = %s' %(this_second))\n",
    "    \n",
    "    \n",
    "    if this_second%3 == 0:\n",
    "        print('Divisible by 3')\n",
    "        break\n",
    "    elif this_second%2 == 0:\n",
    "        print('Divisible by 2')\n",
    "    else:\n",
    "        print('Default')\n",
    "        \n",
    "    print('Iteration complete')"
   ]
  },
  {
   "cell_type": "code",
   "execution_count": null,
   "metadata": {},
   "outputs": [],
   "source": []
  },
  {
   "cell_type": "code",
   "execution_count": null,
   "metadata": {},
   "outputs": [],
   "source": []
  }
 ],
 "metadata": {
  "kernelspec": {
   "display_name": "Python 3",
   "language": "python",
   "name": "python3"
  },
  "language_info": {
   "codemirror_mode": {
    "name": "ipython",
    "version": 3
   },
   "file_extension": ".py",
   "mimetype": "text/x-python",
   "name": "python",
   "nbconvert_exporter": "python",
   "pygments_lexer": "ipython3",
   "version": "3.7.4"
  }
 },
 "nbformat": 4,
 "nbformat_minor": 2
}
