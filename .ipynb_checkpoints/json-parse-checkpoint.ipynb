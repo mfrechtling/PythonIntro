{
 "cells": [
  {
   "cell_type": "code",
   "execution_count": 1,
   "metadata": {},
   "outputs": [],
   "source": [
    "import json\n",
    "import requests\n",
    "from pprint import pprint"
   ]
  },
  {
   "cell_type": "code",
   "execution_count": 6,
   "metadata": {},
   "outputs": [],
   "source": [
    "url = 'http://api.openweathermap.org/data/2.5/forecast'\n",
    "paramDict = {'q' : 'London,UK', 'units' : 'metric', 'appid' : 'b9b95dba596c5a05348ae7c27b6bc33b', 'cnt' : 5}"
   ]
  },
  {
   "cell_type": "code",
   "execution_count": 9,
   "metadata": {},
   "outputs": [],
   "source": [
    "response = requests.get(url, params=paramDict)\n",
    "parsed_json = response.json()"
   ]
  },
  {
   "cell_type": "code",
   "execution_count": 10,
   "metadata": {},
   "outputs": [
    {
     "name": "stdout",
     "output_type": "stream",
     "text": [
      "{'city': {'coord': {'lat': 51.5085, 'lon': -0.1258},\n",
      "          'country': 'GB',\n",
      "          'id': 2643743,\n",
      "          'name': 'London',\n",
      "          'population': 1000000,\n",
      "          'sunrise': 1573456258,\n",
      "          'sunset': 1573489087,\n",
      "          'timezone': 0},\n",
      " 'cnt': 5,\n",
      " 'cod': '200',\n",
      " 'list': [{'clouds': {'all': 35},\n",
      "           'dt': 1573506000,\n",
      "           'dt_txt': '2019-11-11 21:00:00',\n",
      "           'main': {'grnd_level': 998,\n",
      "                    'humidity': 67,\n",
      "                    'pressure': 1002,\n",
      "                    'sea_level': 1002,\n",
      "                    'temp': 4.35,\n",
      "                    'temp_kf': -2.27,\n",
      "                    'temp_max': 6.61,\n",
      "                    'temp_min': 4.35},\n",
      "           'sys': {'pod': 'n'},\n",
      "           'weather': [{'description': 'scattered clouds',\n",
      "                        'icon': '03n',\n",
      "                        'id': 802,\n",
      "                        'main': 'Clouds'}],\n",
      "           'wind': {'deg': 263, 'speed': 4.98}},\n",
      "          {'clouds': {'all': 24},\n",
      "           'dt': 1573516800,\n",
      "           'dt_txt': '2019-11-12 00:00:00',\n",
      "           'main': {'grnd_level': 998,\n",
      "                    'humidity': 67,\n",
      "                    'pressure': 1002,\n",
      "                    'sea_level': 1002,\n",
      "                    'temp': 4.3,\n",
      "                    'temp_kf': -1.7,\n",
      "                    'temp_max': 6,\n",
      "                    'temp_min': 4.3},\n",
      "           'sys': {'pod': 'n'},\n",
      "           'weather': [{'description': 'few clouds',\n",
      "                        'icon': '02n',\n",
      "                        'id': 801,\n",
      "                        'main': 'Clouds'}],\n",
      "           'wind': {'deg': 262, 'speed': 4.67}},\n",
      "          {'clouds': {'all': 53},\n",
      "           'dt': 1573527600,\n",
      "           'dt_txt': '2019-11-12 03:00:00',\n",
      "           'main': {'grnd_level': 997,\n",
      "                    'humidity': 66,\n",
      "                    'pressure': 1000,\n",
      "                    'sea_level': 1000,\n",
      "                    'temp': 4.49,\n",
      "                    'temp_kf': -1.14,\n",
      "                    'temp_max': 5.62,\n",
      "                    'temp_min': 4.49},\n",
      "           'sys': {'pod': 'n'},\n",
      "           'weather': [{'description': 'broken clouds',\n",
      "                        'icon': '04n',\n",
      "                        'id': 803,\n",
      "                        'main': 'Clouds'}],\n",
      "           'wind': {'deg': 264, 'speed': 4.49}},\n",
      "          {'clouds': {'all': 71},\n",
      "           'dt': 1573538400,\n",
      "           'dt_txt': '2019-11-12 06:00:00',\n",
      "           'main': {'grnd_level': 997,\n",
      "                    'humidity': 67,\n",
      "                    'pressure': 1000,\n",
      "                    'sea_level': 1000,\n",
      "                    'temp': 4.78,\n",
      "                    'temp_kf': -0.57,\n",
      "                    'temp_max': 5.35,\n",
      "                    'temp_min': 4.78},\n",
      "           'rain': {'3h': 0.13},\n",
      "           'sys': {'pod': 'n'},\n",
      "           'weather': [{'description': 'light rain',\n",
      "                        'icon': '10n',\n",
      "                        'id': 500,\n",
      "                        'main': 'Rain'}],\n",
      "           'wind': {'deg': 262, 'speed': 5.43}},\n",
      "          {'clouds': {'all': 52},\n",
      "           'dt': 1573549200,\n",
      "           'dt_txt': '2019-11-12 09:00:00',\n",
      "           'main': {'grnd_level': 996,\n",
      "                    'humidity': 62,\n",
      "                    'pressure': 1000,\n",
      "                    'sea_level': 1000,\n",
      "                    'temp': 5.73,\n",
      "                    'temp_kf': 0,\n",
      "                    'temp_max': 5.73,\n",
      "                    'temp_min': 5.73},\n",
      "           'sys': {'pod': 'd'},\n",
      "           'weather': [{'description': 'broken clouds',\n",
      "                        'icon': '04d',\n",
      "                        'id': 803,\n",
      "                        'main': 'Clouds'}],\n",
      "           'wind': {'deg': 260, 'speed': 5.68}}],\n",
      " 'message': 0}\n"
     ]
    }
   ],
   "source": [
    "pprint(parsed_json)"
   ]
  },
  {
   "cell_type": "code",
   "execution_count": 11,
   "metadata": {},
   "outputs": [
    {
     "name": "stdout",
     "output_type": "stream",
     "text": [
      "5.62\n"
     ]
    }
   ],
   "source": [
    "print(parsed_json['list'][2]['main']['temp_max'])"
   ]
  },
  {
   "cell_type": "code",
   "execution_count": 13,
   "metadata": {},
   "outputs": [],
   "source": [
    "maxarray=[x['main']['temp_max'] for x in parsed_json['list']]"
   ]
  },
  {
   "cell_type": "code",
   "execution_count": 14,
   "metadata": {},
   "outputs": [
    {
     "name": "stdout",
     "output_type": "stream",
     "text": [
      "[6.61, 6, 5.62, 5.35, 5.73]\n"
     ]
    }
   ],
   "source": [
    "print(maxarray)"
   ]
  },
  {
   "cell_type": "markdown",
   "metadata": {},
   "source": []
  },
  {
   "cell_type": "code",
   "execution_count": 15,
   "metadata": {},
   "outputs": [
    {
     "data": {
      "text/plain": [
       "6.61"
      ]
     },
     "execution_count": 15,
     "metadata": {},
     "output_type": "execute_result"
    }
   ],
   "source": [
    "max(maxarray)"
   ]
  },
  {
   "cell_type": "code",
   "execution_count": null,
   "metadata": {},
   "outputs": [],
   "source": []
  }
 ],
 "metadata": {
  "kernelspec": {
   "display_name": "Python 3",
   "language": "python",
   "name": "python3"
  },
  "language_info": {
   "codemirror_mode": {
    "name": "ipython",
    "version": 3
   },
   "file_extension": ".py",
   "mimetype": "text/x-python",
   "name": "python",
   "nbconvert_exporter": "python",
   "pygments_lexer": "ipython3",
   "version": "3.7.4"
  }
 },
 "nbformat": 4,
 "nbformat_minor": 2
}
