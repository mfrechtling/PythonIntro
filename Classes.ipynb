{
 "cells": [
  {
   "cell_type": "code",
   "execution_count": 53,
   "metadata": {},
   "outputs": [],
   "source": [
    "from functools import total_ordering\n",
    "\n",
    "@total_ordering\n",
    "class Customer:\n",
    "    customer_id = 0\n",
    "    \n",
    "    def __init__(self, name:str, car:str) -> None:\n",
    "        self.name = name\n",
    "        self.car = car\n",
    "        Customer.customer_id += 1\n",
    "        self.id = Customer.customer_id\n",
    "        self.payments = []\n",
    "        \n",
    "    def display_details(self):\n",
    "        print('Name: %s\\nID: %s\\nCar: %s\\n' %(self.name, self.id, self.car))\n",
    "        \n",
    "    def update_car(self, car:str) -> None:\n",
    "        self.car = car\n",
    "        \n",
    "    def __repr__(self):\n",
    "        return str('Name: %s\\nID: %s\\nCar: %s\\n' %(self.name, self.id, self.car))\n",
    "    \n",
    "    def add_payment(self, amount):\n",
    "        if not isinstance(amount, int):\n",
    "            raise ValueError('The value for amount is not an integer')\n",
    "        self.payments.append(amount)\n",
    "        \n",
    "    def __len__(self):\n",
    "        return len(self.payments)\n",
    "        \n",
    "    def __eq__(self, other):\n",
    "        return sum(self.payments) == sum(other.payments)\n",
    "    \n",
    "    def __lt__(self, other):\n",
    "        return sum(self.payments) < sum(other.payments)"
   ]
  },
  {
   "cell_type": "code",
   "execution_count": 54,
   "metadata": {},
   "outputs": [
    {
     "name": "stdout",
     "output_type": "stream",
     "text": [
      "Name: Klara\n",
      "ID: 1\n",
      "Car: Audi A4\n",
      "\n"
     ]
    }
   ],
   "source": [
    "customer1 = Customer(\"Klara\", \"Audi A4\")\n",
    "customer1.display_details()"
   ]
  },
  {
   "cell_type": "code",
   "execution_count": 55,
   "metadata": {},
   "outputs": [
    {
     "name": "stdout",
     "output_type": "stream",
     "text": [
      "Name: Eric\n",
      "ID: 2\n",
      "Car: Mazda3\n",
      "\n",
      "Name: Eric\n",
      "ID: 2\n",
      "Car: Nissan 350Z\n",
      "\n"
     ]
    }
   ],
   "source": [
    "customer2 = Customer(\"Eric\", \"Mazda3\")\n",
    "customer2.display_details()\n",
    "customer2.update_car(\"Nissan 350Z\")\n",
    "customer2.display_details()"
   ]
  },
  {
   "cell_type": "code",
   "execution_count": 56,
   "metadata": {},
   "outputs": [
    {
     "name": "stdout",
     "output_type": "stream",
     "text": [
      "Name: Eric\n",
      "ID: 2\n",
      "Car: Nissan 350Z\n",
      "\n"
     ]
    }
   ],
   "source": [
    "print(customer2)"
   ]
  },
  {
   "cell_type": "code",
   "execution_count": 57,
   "metadata": {},
   "outputs": [],
   "source": [
    "customer2.add_payment(1000)\n",
    "customer2.add_payment(1500)"
   ]
  },
  {
   "cell_type": "code",
   "execution_count": 58,
   "metadata": {},
   "outputs": [
    {
     "data": {
      "text/plain": [
       "2"
      ]
     },
     "execution_count": 58,
     "metadata": {},
     "output_type": "execute_result"
    }
   ],
   "source": [
    "len(customer2)"
   ]
  },
  {
   "cell_type": "code",
   "execution_count": 59,
   "metadata": {},
   "outputs": [
    {
     "data": {
      "text/plain": [
       "False"
      ]
     },
     "execution_count": 59,
     "metadata": {},
     "output_type": "execute_result"
    }
   ],
   "source": [
    "customer1 > customer2"
   ]
  },
  {
   "cell_type": "code",
   "execution_count": 60,
   "metadata": {},
   "outputs": [
    {
     "data": {
      "text/plain": [
       "True"
      ]
     },
     "execution_count": 60,
     "metadata": {},
     "output_type": "execute_result"
    }
   ],
   "source": [
    "customer1.add_payment(3000)\n",
    "customer1 > customer2"
   ]
  },
  {
   "cell_type": "code",
   "execution_count": null,
   "metadata": {},
   "outputs": [],
   "source": []
  },
  {
   "cell_type": "code",
   "execution_count": null,
   "metadata": {},
   "outputs": [],
   "source": []
  },
  {
   "cell_type": "code",
   "execution_count": null,
   "metadata": {},
   "outputs": [],
   "source": []
  },
  {
   "cell_type": "code",
   "execution_count": null,
   "metadata": {},
   "outputs": [],
   "source": []
  },
  {
   "cell_type": "code",
   "execution_count": null,
   "metadata": {},
   "outputs": [],
   "source": []
  }
 ],
 "metadata": {
  "kernelspec": {
   "display_name": "Python 3",
   "language": "python",
   "name": "python3"
  },
  "language_info": {
   "codemirror_mode": {
    "name": "ipython",
    "version": 3
   },
   "file_extension": ".py",
   "mimetype": "text/x-python",
   "name": "python",
   "nbconvert_exporter": "python",
   "pygments_lexer": "ipython3",
   "version": "3.7.4"
  }
 },
 "nbformat": 4,
 "nbformat_minor": 2
}
